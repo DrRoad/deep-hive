{
 "cells": [
  {
   "cell_type": "code",
   "execution_count": 1,
   "metadata": {},
   "outputs": [
    {
     "name": "stderr",
     "output_type": "stream",
     "text": [
      "/Users/wouter/anaconda2/envs/deep-matting/lib/python3.6/site-packages/h5py/__init__.py:36: FutureWarning: Conversion of the second argument of issubdtype from `float` to `np.floating` is deprecated. In future, it will be treated as `np.float64 == np.dtype(float).type`.\n",
      "  from ._conv import register_converters as _register_converters\n",
      "Using TensorFlow backend.\n",
      "/Users/wouter/anaconda2/envs/deep-matting/lib/python3.6/importlib/_bootstrap.py:219: RuntimeWarning: compiletime version 3.5 of module 'tensorflow.python.framework.fast_tensor_util' does not match runtime version 3.6\n",
      "  return f(*args, **kwds)\n"
     ]
    },
    {
     "name": "stdout",
     "output_type": "stream",
     "text": [
      "Preprocessed 1690 images\n"
     ]
    }
   ],
   "source": [
    "from keras.preprocessing import image\n",
    "import numpy as np\n",
    "import os\n",
    "from os import listdir\n",
    "from os.path import isfile, join\n",
    "from skimage.io import imread\n",
    "from skimage.transform import resize\n",
    "import random\n",
    "\n",
    "IMG_SIZE = 128\n",
    "    \n",
    "path = 'data/original'\n",
    "output_path = 'data/128x128'\n",
    "\n",
    "if not os.path.exists(output_path):\n",
    "    os.makedirs(output_path)\n",
    "    \n",
    "classes = next(os.walk(path))[1]\n",
    "images = []\n",
    "labels = []\n",
    "image_id = 0\n",
    "for label, class_name in enumerate(classes):\n",
    "    output_class_path = join(output_path, class_name)\n",
    "    if not os.path.exists(output_class_path):\n",
    "        os.makedirs(output_class_path)\n",
    "    \n",
    "    dirs = next(os.walk(join(path, class_name)))[1]\n",
    "    for dir_name in dirs:\n",
    "        files = next(os.walk(join(path, class_name, dir_name)))[2]\n",
    "        \n",
    "        for file in files:\n",
    "            filename = join(path, class_name, dir_name, file)\n",
    "            output_filename = join(output_class_path, str(image_id) + '.png')\n",
    "            try:\n",
    "                img = image.load_img(filename, target_size=(IMG_SIZE, IMG_SIZE))\n",
    "                img.save(output_filename, 'PNG')\n",
    "            except:\n",
    "                pass\n",
    " \n",
    "            image_id += 1\n",
    "\n",
    "print(\"Preprocessed %d images\" % image_id)"
   ]
  },
  {
   "cell_type": "code",
   "execution_count": null,
   "metadata": {
    "collapsed": true
   },
   "outputs": [],
   "source": []
  }
 ],
 "metadata": {
  "kernelspec": {
   "display_name": "Python [conda env:deep-matting]",
   "language": "python",
   "name": "conda-env-deep-matting-py"
  },
  "language_info": {
   "codemirror_mode": {
    "name": "ipython",
    "version": 3
   },
   "file_extension": ".py",
   "mimetype": "text/x-python",
   "name": "python",
   "nbconvert_exporter": "python",
   "pygments_lexer": "ipython3",
   "version": "3.6.4"
  }
 },
 "nbformat": 4,
 "nbformat_minor": 1
}

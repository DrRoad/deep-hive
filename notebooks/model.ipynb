{
 "cells": [
  {
   "cell_type": "markdown",
   "metadata": {},
   "source": [
    "# Model experiments"
   ]
  },
  {
   "cell_type": "code",
   "execution_count": null,
   "metadata": {},
   "outputs": [],
   "source": [
    "from keras.preprocessing import image\n",
    "import numpy as np\n",
    "import os\n",
    "from os import listdir\n",
    "from os.path import isfile, join\n",
    "from skimage.io import imread\n",
    "from skimage.transform import resize\n",
    "\n",
    "IMG_SIZE = 128\n",
    "\n",
    "# load images\n",
    "path = '../data/catsdogs'\n",
    "classes = next(os.walk(path))[1]\n",
    "images = []\n",
    "labels = []\n",
    "for label, class_name in enumerate(classes):\n",
    "    files = next(os.walk(join(path, class_name)))[2]\n",
    "    for file in files:\n",
    "        filename = join(path, class_name, file)\n",
    "        try:\n",
    "            img = image.load_img(filename)\n",
    "            img_arr = image.img_to_array(img)\n",
    "        except:\n",
    "            pass\n",
    "\n",
    "        if not img_arr.shape == (IMG_SIZE, IMG_SIZE, 3):\n",
    "            print(\"Unexpected shape\")\n",
    "            continue\n",
    "\n",
    "        images.append(img_arr)\n",
    "        labels.append(label)    \n",
    "\n",
    "print(\"Loaded %d images\" % len(images))"
   ]
  },
  {
   "cell_type": "code",
   "execution_count": null,
   "metadata": {},
   "outputs": [],
   "source": [
    "# show a single image\n",
    "import matplotlib.pyplot as plt\n",
    "import PIL\n",
    "\n",
    "img_data = np.uint8(images[7])\n",
    "plt.imshow(img_data)"
   ]
  },
  {
   "cell_type": "code",
   "execution_count": null,
   "metadata": {},
   "outputs": [],
   "source": [
    "import random\n",
    "import keras\n",
    "#from keras.applications.vgg16 import preprocess_input\n",
    "#from keras.applications.resnet50 import preprocess_input\n",
    "from keras.applications.mobilenet import preprocess_input\n",
    "\n",
    "# shuffle all samples\n",
    "samples = list(zip(images,labels))\n",
    "#random.shuffle(samples)\n",
    "x,y = zip(*samples)\n",
    "\n",
    "# make numpy arrays\n",
    "x = np.array(x)\n",
    "y = np.array(y)\n",
    "\n",
    "# one hot encoding of labels\n",
    "y = keras.utils.to_categorical(y)\n",
    "\n",
    "# perform preprocessing for vgg16\n",
    "x = preprocess_input(x)\n",
    "\n",
    "# check shapes\n",
    "print(x.shape, y.shape)\n",
    "\n",
    "# split test / train set\n",
    "split = 100\n",
    "train_size = 400\n",
    "test_x = x[:split]\n",
    "test_y = y[:split]\n",
    "train_x = x[split:split + train_size]\n",
    "train_y = y[split:split + train_size]"
   ]
  },
  {
   "cell_type": "code",
   "execution_count": null,
   "metadata": {},
   "outputs": [],
   "source": [
    "import keras\n",
    "from keras.layers import GlobalMaxPooling2D, GlobalAveragePooling2D, Dense, Dropout\n",
    "from keras.optimizers import SGD\n",
    "\n",
    "#base_model = keras.applications.VGG16(include_top=False, weights='imagenet', input_shape = (IMG_SIZE, IMG_SIZE, 3))\n",
    "#base_model = keras.applications.ResNet50(weights='imagenet', include_top=False, input_shape = (IMG_SIZE, IMG_SIZE, 3))\n",
    "base_model = keras.applications.mobilenet.MobileNet(weights='imagenet', include_top=False, input_shape = (IMG_SIZE, IMG_SIZE, 3))\n",
    "\n",
    "base_model.trainable = False\n",
    "\n",
    "model = keras.models.Sequential([\n",
    "    base_model,\n",
    "    GlobalAveragePooling2D(),\n",
    "    Dense(256, activation='relu'),\n",
    "    Dropout(0.3),\n",
    "    Dense(len(classes), activation='softmax')\n",
    "])\n",
    "\n",
    "model.summary()\n",
    "\n",
    "\n",
    "sgd = SGD(lr=0.0005)\n",
    "     \n",
    "model.compile(loss='categorical_crossentropy', optimizer=sgd, metrics=['accuracy'])\n",
    "history = model.fit(x = train_x, y = train_y, batch_size = 1, validation_split = 0.5, epochs = 10, verbose=1)\n",
    "\n",
    "model.evaluate(test_x, test_y)"
   ]
  }
 ],
 "metadata": {
  "kernelspec": {
   "display_name": "Python [conda env:deep-matting]",
   "language": "python",
   "name": "conda-env-deep-matting-py"
  },
  "language_info": {
   "codemirror_mode": {
    "name": "ipython",
    "version": 3
   },
   "file_extension": ".py",
   "mimetype": "text/x-python",
   "name": "python",
   "nbconvert_exporter": "python",
   "pygments_lexer": "ipython3",
   "version": "3.6.4"
  }
 },
 "nbformat": 4,
 "nbformat_minor": 1
}

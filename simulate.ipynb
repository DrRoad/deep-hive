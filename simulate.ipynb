{
 "cells": [
  {
   "cell_type": "code",
   "execution_count": 97,
   "metadata": {},
   "outputs": [
    {
     "name": "stdout",
     "output_type": "stream",
     "text": [
      "The autoreload extension is already loaded. To reload it, use:\n",
      "  %reload_ext autoreload\n",
      "Loading images ...\n",
      "(1671, 128, 128, 3) (1671,)\n",
      "Loaded 1671 images\n"
     ]
    }
   ],
   "source": [
    "%load_ext autoreload\n",
    "%autoreload 2\n",
    "\n",
    "from server.HiveModel import HiveModel\n",
    "import redis, json\n",
    "\n",
    "model = HiveModel(path='data/128x128', img_size=128)"
   ]
  },
  {
   "cell_type": "code",
   "execution_count": 101,
   "metadata": {
    "collapsed": true
   },
   "outputs": [],
   "source": [
    "import redis, json, random\n",
    "\n",
    "r = redis.Redis(host='localhost', port=6379)\n",
    "\n",
    "# simulate labelling\n",
    "for i, x in enumerate(model._train_x):\n",
    "    #class_id = random.randint(0, 1) # random\n",
    "    class_id = model._train_labels[i] # real labels\n",
    "    data = {\n",
    "        'action': 'label',\n",
    "        'image_id': int(i),\n",
    "        'class_id': int(class_id)\n",
    "    }\n",
    "    r.publish('hive_messages', json.dumps(data))\n"
   ]
  },
  {
   "cell_type": "code",
   "execution_count": null,
   "metadata": {
    "collapsed": true
   },
   "outputs": [],
   "source": []
  }
 ],
 "metadata": {
  "kernelspec": {
   "display_name": "Python [conda env:deep-matting]",
   "language": "python",
   "name": "conda-env-deep-matting-py"
  },
  "language_info": {
   "codemirror_mode": {
    "name": "ipython",
    "version": 3
   },
   "file_extension": ".py",
   "mimetype": "text/x-python",
   "name": "python",
   "nbconvert_exporter": "python",
   "pygments_lexer": "ipython3",
   "version": "3.6.4"
  }
 },
 "nbformat": 4,
 "nbformat_minor": 2
}
